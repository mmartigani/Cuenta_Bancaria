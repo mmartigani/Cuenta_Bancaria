{
 "cells": [
  {
   "cell_type": "code",
   "execution_count": 4,
   "id": "654341e6-250a-4fa9-8e21-57bd2e6bcd81",
   "metadata": {},
   "outputs": [
    {
     "name": "stdin",
     "output_type": "stream",
     "text": [
      "ingrese su nombre:  marco\n",
      "ingrese su apellido:  martinez\n",
      "ingrese su numero de Cuenta:  125477\n"
     ]
    },
    {
     "name": "stdout",
     "output_type": "stream",
     "text": [
      " Cliente : marco martinez\n",
      "Balance de Cuenta 125477 :$0\n",
      "Elije: Depositar(d), Retirar(r), Salir(s)\n"
     ]
    },
    {
     "name": "stdin",
     "output_type": "stream",
     "text": [
      " d\n",
      "monto a depositar:  500\n"
     ]
    },
    {
     "name": "stdout",
     "output_type": "stream",
     "text": [
      "Deposito aceptado\n",
      " Cliente : marco martinez\n",
      "Balance de Cuenta 125477 :$500\n",
      "Elije: Depositar(d), Retirar(r), Salir(s)\n"
     ]
    },
    {
     "name": "stdin",
     "output_type": "stream",
     "text": [
      " d\n",
      "monto a depositar:  2500\n"
     ]
    },
    {
     "name": "stdout",
     "output_type": "stream",
     "text": [
      "Deposito aceptado\n",
      " Cliente : marco martinez\n",
      "Balance de Cuenta 125477 :$3000\n",
      "Elije: Depositar(d), Retirar(r), Salir(s)\n"
     ]
    },
    {
     "name": "stdin",
     "output_type": "stream",
     "text": [
      " r\n",
      "monto a retirar:  700\n"
     ]
    },
    {
     "name": "stdout",
     "output_type": "stream",
     "text": [
      "Retiro Realizado\n",
      " Cliente : marco martinez\n",
      "Balance de Cuenta 125477 :$2300\n",
      "Elije: Depositar(d), Retirar(r), Salir(s)\n"
     ]
    },
    {
     "name": "stdin",
     "output_type": "stream",
     "text": [
      " s\n"
     ]
    },
    {
     "name": "stdout",
     "output_type": "stream",
     "text": [
      " Cliente : marco martinez\n",
      "Balance de Cuenta 125477 :$2300\n",
      "Gracias por operar en nuestro Banco\n"
     ]
    }
   ],
   "source": [
    "class Persona():\n",
    "    \n",
    "    def __init__(self, nombre, aepllido):\n",
    "        self.nombre=nombre\n",
    "        self.apellido=aepllido\n",
    "\n",
    "class Cliente(Persona):\n",
    "    def __init__(self, nombre, apellido, nro_cuenta, balance=0):\n",
    "        super().__init__(nombre, apellido)\n",
    "        self.nro_cuenta=nro_cuenta\n",
    "        self.balance=balance\n",
    "    def __str__(self):\n",
    "        return f' Cliente : {self.nombre} {self.apellido}\\nBalance de Cuenta {self.nro_cuenta} :${self.balance}'\n",
    "    \n",
    "    def depositar(self, monto_deposito):\n",
    "        self.balance+= monto_deposito\n",
    "        print(\"Deposito aceptado\")\n",
    "    \n",
    "    def retirar(self, monto_retirado):\n",
    "        if self.balance >= monto_retirado:\n",
    "            self.balance-=monto_retirado\n",
    "            print('Retiro Realizado')\n",
    "        else:\n",
    "            print('Fondos Insuficientes')\n",
    "    \n",
    "def crear_cliente():\n",
    "    nombre_cl=input('ingrese su nombre: ')\n",
    "    apellido_cl=input('ingrese su apellido: ')\n",
    "    nro_de_cuenta=input('ingrese su numero de Cuenta: ')\n",
    "    cliente=Cliente(nombre_cl, apellido_cl,nro_de_cuenta)   \n",
    "    return cliente \n",
    "\n",
    "def inicio():\n",
    "    mi_cliente=crear_cliente()\n",
    "    print(mi_cliente)\n",
    "    opcion =0\n",
    "    while opcion !='s':\n",
    "        print('Elije: Depositar(d), Retirar(r), Salir(s)')\n",
    "        opcion =input()\n",
    "        \n",
    "        if opcion == 'd':\n",
    "            monto_dep=int(input('monto a depositar: '))\n",
    "            mi_cliente.depositar(monto_dep)\n",
    "        elif opcion =='r':\n",
    "            monto_ret=int(input('monto a retirar: '))\n",
    "            mi_cliente.retirar(monto_ret)\n",
    "        print(mi_cliente)\n",
    "                          \n",
    "        \n",
    "    print('Gracias por operar en nuestro Banco')\n",
    "\n",
    "inicio()\n",
    "                             "
   ]
  },
  {
   "cell_type": "code",
   "execution_count": null,
   "id": "0a0d6434-3f01-4665-abb6-18f5811562ba",
   "metadata": {},
   "outputs": [],
   "source": []
  }
 ],
 "metadata": {
  "kernelspec": {
   "display_name": "Python 3 (ipykernel)",
   "language": "python",
   "name": "python3"
  },
  "language_info": {
   "codemirror_mode": {
    "name": "ipython",
    "version": 3
   },
   "file_extension": ".py",
   "mimetype": "text/x-python",
   "name": "python",
   "nbconvert_exporter": "python",
   "pygments_lexer": "ipython3",
   "version": "3.9.7"
  }
 },
 "nbformat": 4,
 "nbformat_minor": 5
}
